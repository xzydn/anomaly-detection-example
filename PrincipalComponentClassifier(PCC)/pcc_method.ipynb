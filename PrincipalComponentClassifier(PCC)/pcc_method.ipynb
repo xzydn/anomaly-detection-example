{
 "cells": [
  {
   "cell_type": "code",
   "execution_count": 1,
   "metadata": {
    "collapsed": true,
    "pycharm": {
     "is_executing": false
    }
   },
   "outputs": [
    {
     "name": "stdout",
     "text": [
      "         0    1     2   3    4      5   6   7   8   9   ...   32   33   34  \\\n",
      "0         0  tcp  http  SF  215  45076   0   0   0   0  ...    0  0.0  0.0   \n",
      "1         0  tcp  http  SF  162   4528   0   0   0   0  ...    1  1.0  0.0   \n",
      "2         0  tcp  http  SF  236   1228   0   0   0   0  ...    2  1.0  0.0   \n",
      "3         0  tcp  http  SF  233   2032   0   0   0   0  ...    3  1.0  0.0   \n",
      "4         0  tcp  http  SF  239    486   0   0   0   0  ...    4  1.0  0.0   \n",
      "...      ..  ...   ...  ..  ...    ...  ..  ..  ..  ..  ...  ...  ...  ...   \n",
      "4898426   0  tcp  http  SF  212   2288   0   0   0   0  ...  255  1.0  0.0   \n",
      "4898427   0  tcp  http  SF  219    236   0   0   0   0  ...  255  1.0  0.0   \n",
      "4898428   0  tcp  http  SF  218   3610   0   0   0   0  ...  255  1.0  0.0   \n",
      "4898429   0  tcp  http  SF  219   1234   0   0   0   0  ...  255  1.0  0.0   \n",
      "4898430   0  tcp  http  SF  219   1098   0   0   0   0  ...  255  1.0  0.0   \n",
      "\n",
      "           35    36   37    38   39   40       41  \n",
      "0        0.00  0.00  0.0  0.00  0.0  0.0  normal.  \n",
      "1        1.00  0.00  0.0  0.00  0.0  0.0  normal.  \n",
      "2        0.50  0.00  0.0  0.00  0.0  0.0  normal.  \n",
      "3        0.33  0.00  0.0  0.00  0.0  0.0  normal.  \n",
      "4        0.25  0.00  0.0  0.00  0.0  0.0  normal.  \n",
      "...       ...   ...  ...   ...  ...  ...      ...  \n",
      "4898426  0.33  0.05  0.0  0.01  0.0  0.0  normal.  \n",
      "4898427  0.25  0.05  0.0  0.01  0.0  0.0  normal.  \n",
      "4898428  0.20  0.05  0.0  0.01  0.0  0.0  normal.  \n",
      "4898429  0.17  0.05  0.0  0.01  0.0  0.0  normal.  \n",
      "4898430  0.14  0.05  0.0  0.01  0.0  0.0  normal.  \n",
      "\n",
      "[4898431 rows x 42 columns]\n"
     ],
     "output_type": "stream"
    }
   ],
   "source": [
    "import pandas as pd\n",
    "import numpy as np\n",
    "\n",
    "# 准备训练数据\n",
    "origin_training_data = pd.read_csv(r'kddcup.data.corrected', header=None)\n",
    "print(origin_training_data)"
   ]
  },
  {
   "cell_type": "code",
   "execution_count": 2,
   "outputs": [
    {
     "name": "stdout",
     "text": [
      "         0    4      5   7   8   9   10  12  13  14  ...   32   33   34    35  \\\n",
      "0         0  215  45076   0   0   0   0   0   0   0  ...    0  0.0  0.0  0.00   \n",
      "1         0  162   4528   0   0   0   0   0   0   0  ...    1  1.0  0.0  1.00   \n",
      "2         0  236   1228   0   0   0   0   0   0   0  ...    2  1.0  0.0  0.50   \n",
      "3         0  233   2032   0   0   0   0   0   0   0  ...    3  1.0  0.0  0.33   \n",
      "4         0  239    486   0   0   0   0   0   0   0  ...    4  1.0  0.0  0.25   \n",
      "...      ..  ...    ...  ..  ..  ..  ..  ..  ..  ..  ...  ...  ...  ...   ...   \n",
      "4898426   0  212   2288   0   0   0   0   0   0   0  ...  255  1.0  0.0  0.33   \n",
      "4898427   0  219    236   0   0   0   0   0   0   0  ...  255  1.0  0.0  0.25   \n",
      "4898428   0  218   3610   0   0   0   0   0   0   0  ...  255  1.0  0.0  0.20   \n",
      "4898429   0  219   1234   0   0   0   0   0   0   0  ...  255  1.0  0.0  0.17   \n",
      "4898430   0  219   1098   0   0   0   0   0   0   0  ...  255  1.0  0.0  0.14   \n",
      "\n",
      "           36   37    38   39   40       41  \n",
      "0        0.00  0.0  0.00  0.0  0.0  normal.  \n",
      "1        0.00  0.0  0.00  0.0  0.0  normal.  \n",
      "2        0.00  0.0  0.00  0.0  0.0  normal.  \n",
      "3        0.00  0.0  0.00  0.0  0.0  normal.  \n",
      "4        0.00  0.0  0.00  0.0  0.0  normal.  \n",
      "...       ...  ...   ...  ...  ...      ...  \n",
      "4898426  0.05  0.0  0.01  0.0  0.0  normal.  \n",
      "4898427  0.05  0.0  0.01  0.0  0.0  normal.  \n",
      "4898428  0.05  0.0  0.01  0.0  0.0  normal.  \n",
      "4898429  0.05  0.0  0.01  0.0  0.0  normal.  \n",
      "4898430  0.05  0.0  0.01  0.0  0.0  normal.  \n",
      "\n",
      "[4898431 rows x 35 columns]\n"
     ],
     "output_type": "stream"
    }
   ],
   "source": [
    "# 删除符号列   \n",
    "origin_training_data_1 = origin_training_data.drop(columns=[1, 2, 3, 6, 11, 20, 21])\n",
    "print(origin_training_data_1)\n"
   ],
   "metadata": {
    "collapsed": false,
    "pycharm": {
     "name": "#%%\n",
     "is_executing": false
    }
   }
  },
  {
   "cell_type": "code",
   "execution_count": 3,
   "outputs": [
    {
     "name": "stdout",
     "text": [
      "         0    4      5   7   8   9   10  12  13  14  ...   32   33   34    35  \\\n",
      "0         0  215  45076   0   0   0   0   0   0   0  ...    0  0.0  0.0  0.00   \n",
      "1         0  162   4528   0   0   0   0   0   0   0  ...    1  1.0  0.0  1.00   \n",
      "2         0  236   1228   0   0   0   0   0   0   0  ...    2  1.0  0.0  0.50   \n",
      "3         0  233   2032   0   0   0   0   0   0   0  ...    3  1.0  0.0  0.33   \n",
      "4         0  239    486   0   0   0   0   0   0   0  ...    4  1.0  0.0  0.25   \n",
      "...      ..  ...    ...  ..  ..  ..  ..  ..  ..  ..  ...  ...  ...  ...   ...   \n",
      "4898426   0  212   2288   0   0   0   0   0   0   0  ...  255  1.0  0.0  0.33   \n",
      "4898427   0  219    236   0   0   0   0   0   0   0  ...  255  1.0  0.0  0.25   \n",
      "4898428   0  218   3610   0   0   0   0   0   0   0  ...  255  1.0  0.0  0.20   \n",
      "4898429   0  219   1234   0   0   0   0   0   0   0  ...  255  1.0  0.0  0.17   \n",
      "4898430   0  219   1098   0   0   0   0   0   0   0  ...  255  1.0  0.0  0.14   \n",
      "\n",
      "           36   37    38   39   40       41  \n",
      "0        0.00  0.0  0.00  0.0  0.0  normal.  \n",
      "1        0.00  0.0  0.00  0.0  0.0  normal.  \n",
      "2        0.00  0.0  0.00  0.0  0.0  normal.  \n",
      "3        0.00  0.0  0.00  0.0  0.0  normal.  \n",
      "4        0.00  0.0  0.00  0.0  0.0  normal.  \n",
      "...       ...  ...   ...  ...  ...      ...  \n",
      "4898426  0.05  0.0  0.01  0.0  0.0  normal.  \n",
      "4898427  0.05  0.0  0.01  0.0  0.0  normal.  \n",
      "4898428  0.05  0.0  0.01  0.0  0.0  normal.  \n",
      "4898429  0.05  0.0  0.01  0.0  0.0  normal.  \n",
      "4898430  0.05  0.0  0.01  0.0  0.0  normal.  \n",
      "\n",
      "[972781 rows x 35 columns]\n",
      "[[0.0000e+00 2.1500e+02 4.5076e+04 ... 0.0000e+00 0.0000e+00 0.0000e+00]\n",
      " [0.0000e+00 1.6200e+02 4.5280e+03 ... 0.0000e+00 0.0000e+00 0.0000e+00]\n",
      " [0.0000e+00 2.3600e+02 1.2280e+03 ... 0.0000e+00 0.0000e+00 0.0000e+00]\n",
      " ...\n",
      " [0.0000e+00 2.1800e+02 3.6100e+03 ... 1.0000e-02 0.0000e+00 0.0000e+00]\n",
      " [0.0000e+00 2.1900e+02 1.2340e+03 ... 1.0000e-02 0.0000e+00 0.0000e+00]\n",
      " [0.0000e+00 2.1900e+02 1.0980e+03 ... 1.0000e-02 0.0000e+00 0.0000e+00]]\n"
     ],
     "output_type": "stream"
    }
   ],
   "source": [
    "# 筛选正常列\n",
    "origin_training_data_1_normal = origin_training_data_1.loc[origin_training_data_1.loc[:, 41] == 'normal.']\n",
    "print(origin_training_data_1_normal)\n",
    "\n",
    "# 转为numpy矩阵\n",
    "origin_training_data_2_normal = origin_training_data_1_normal.drop(columns=[41])\n",
    "X_train_normal = np.array(origin_training_data_2_normal)\n",
    "print(X_train_normal)"
   ],
   "metadata": {
    "collapsed": false,
    "pycharm": {
     "name": "#%%\n",
     "is_executing": false
    }
   }
  },
  {
   "cell_type": "code",
   "execution_count": 4,
   "outputs": [
    {
     "name": "stdout",
     "text": [
      "          0     4     5   7   8   9   10  12  13  14  ...   32    33    34  \\\n",
      "7448     184  1511  2957   0   0   3   0   2   1   0  ...    3  1.00  0.00   \n",
      "7449     305  1735  2766   0   0   3   0   2   1   0  ...    4  1.00  0.00   \n",
      "40481     79   281  1301   0   0   2   0   1   1   0  ...   10  1.00  0.00   \n",
      "41114     25   269  2333   0   0   0   0   0   1   0  ...    2  0.03  0.06   \n",
      "75985      0     0     0   0   0   0   0   0   0   0  ...    2  1.00  0.00   \n",
      "...      ...   ...   ...  ..  ..  ..  ..  ..  ..  ..  ...  ...   ...   ...   \n",
      "4867867    0    28     0   3   0   0   0   0   0   0  ...   96  0.38  0.01   \n",
      "4867868    0    28     0   3   0   0   0   0   0   0  ...   97  0.38  0.01   \n",
      "4867869    0    28     0   3   0   0   0   0   0   0  ...   98  0.38  0.01   \n",
      "4867870    0    28     0   3   0   0   0   0   0   0  ...   99  0.39  0.01   \n",
      "4867871    0    28     0   3   0   0   0   0   0   0  ...  100  0.39  0.01   \n",
      "\n",
      "           35    36   37   38   39   40                41  \n",
      "7448     1.00  0.67  0.0  0.0  0.0  0.0  buffer_overflow.  \n",
      "7449     0.50  0.50  0.0  0.0  0.0  0.0  buffer_overflow.  \n",
      "40481    1.00  0.30  0.0  0.0  0.0  0.1       loadmodule.  \n",
      "41114    0.01  0.00  0.0  0.0  0.0  0.0             perl.  \n",
      "75985    1.00  1.00  1.0  0.5  0.0  0.0          neptune.  \n",
      "...       ...   ...  ...  ...  ...  ...               ...  \n",
      "4867867  0.38  0.00  0.0  0.0  0.0  0.0         teardrop.  \n",
      "4867868  0.38  0.00  0.0  0.0  0.0  0.0         teardrop.  \n",
      "4867869  0.38  0.00  0.0  0.0  0.0  0.0         teardrop.  \n",
      "4867870  0.39  0.00  0.0  0.0  0.0  0.0         teardrop.  \n",
      "4867871  0.39  0.00  0.0  0.0  0.0  0.0         teardrop.  \n",
      "\n",
      "[3925650 rows x 35 columns]\n",
      "[[1.840e+02 1.511e+03 2.957e+03 ... 0.000e+00 0.000e+00 0.000e+00]\n",
      " [3.050e+02 1.735e+03 2.766e+03 ... 0.000e+00 0.000e+00 0.000e+00]\n",
      " [7.900e+01 2.810e+02 1.301e+03 ... 0.000e+00 0.000e+00 1.000e-01]\n",
      " ...\n",
      " [0.000e+00 2.800e+01 0.000e+00 ... 0.000e+00 0.000e+00 0.000e+00]\n",
      " [0.000e+00 2.800e+01 0.000e+00 ... 0.000e+00 0.000e+00 0.000e+00]\n",
      " [0.000e+00 2.800e+01 0.000e+00 ... 0.000e+00 0.000e+00 0.000e+00]]\n"
     ],
     "output_type": "stream"
    }
   ],
   "source": [
    "# 筛选异常列\n",
    "origin_training_data_1_abnormal = origin_training_data_1.loc[origin_training_data_1.loc[:, 41] != 'normal.']\n",
    "print(origin_training_data_1_abnormal)\n",
    "\n",
    "# 转为numpy矩阵\n",
    "origin_training_data_2_abnormal = origin_training_data_1_abnormal.drop(columns=[41])\n",
    "X_train_abnormal = np.array(origin_training_data_2_abnormal)\n",
    "print(X_train_abnormal)\n"
   ],
   "metadata": {
    "collapsed": false,
    "pycharm": {
     "name": "#%%\n",
     "is_executing": false
    }
   }
  },
  {
   "cell_type": "code",
   "execution_count": 5,
   "outputs": [
    {
     "name": "stdout",
     "text": [
      "[2.17824724e+02 1.47784625e+03 3.23465011e+03 0.00000000e+00\n",
      " 3.59793211e-05 4.95353014e-02 9.86861380e-05 3.83889077e-02\n",
      " 3.10450142e-04 1.84008528e-04 6.49704301e-02 5.88724492e-03\n",
      " 3.62877153e-04 5.13065119e-03 0.00000000e+00 8.15902860e+00\n",
      " 1.09127902e+01 1.48305734e-03 1.72458138e-03 5.59406999e-02\n",
      " 5.62064123e-02 9.85257453e-01 1.85353435e-02 1.32494354e-01\n",
      " 1.48498415e+02 2.02014806e+02 8.44879197e-01 5.65001886e-02\n",
      " 1.34940166e-01 2.43402986e-02 2.03932848e-03 1.05018499e-03\n",
      " 5.77844345e-02 5.60155677e-02]\n",
      "[1.35194318e+03 1.10500363e+05 3.42316630e+04 0.00000000e+00\n",
      " 1.59989336e-02 9.31912374e-01 1.31411949e-02 8.65356832e+00\n",
      " 1.76168602e-02 1.81077871e-02 8.83651853e+00 2.76930910e-01\n",
      " 1.91535218e-02 7.94687911e-02 0.00000000e+00 1.77520160e+01\n",
      " 2.17904003e+01 2.71998680e-02 2.62097284e-02 2.29009428e-01\n",
      " 2.27765891e-01 9.30005017e-02 1.17531932e-01 2.76299862e-01\n",
      " 1.03413307e+02 8.69958939e+01 3.05449230e-01 1.80074194e-01\n",
      " 2.82299613e-01 5.06992795e-02 2.85378077e-02 1.54236851e-02\n",
      " 2.25141750e-01 2.19218557e-01]\n",
      "[[-0.16111973 -0.01142844  1.22229965 ... -0.06808911 -0.25665801\n",
      "  -0.25552384]\n",
      " [-0.16111973 -0.01190807  0.03778227 ... -0.06808911 -0.25665801\n",
      "  -0.25552384]\n",
      " [-0.16111973 -0.01123839 -0.05861971 ... -0.06808911 -0.25665801\n",
      "  -0.25552384]\n",
      " ...\n",
      " [-0.16111973 -0.01140129  0.01096499 ...  0.58026438 -0.25665801\n",
      "  -0.25552384]\n",
      " [-0.16111973 -0.01139224 -0.05844443 ...  0.58026438 -0.25665801\n",
      "  -0.25552384]\n",
      " [-0.16111973 -0.01139224 -0.06241736 ...  0.58026438 -0.25665801\n",
      "  -0.25552384]]\n",
      "[-6.53291360e-17 -6.13556287e-19  1.75301796e-19  0.00000000e+00\n",
      "  1.57041192e-19  3.85663952e-18  2.16935973e-18 -1.40971861e-18\n",
      "  1.66536706e-18 -6.86598702e-19  1.85527734e-18 -7.62562813e-18\n",
      " -2.04518762e-19  1.28554651e-17  0.00000000e+00  4.50525616e-17\n",
      " -7.49123009e-17 -6.54460039e-18  6.01869500e-18 -8.71834266e-17\n",
      "  6.14724965e-17  2.53439650e-15 -2.36073086e-17  1.20958239e-17\n",
      " -1.30892008e-17  1.33696837e-16  2.69263559e-16  1.27853443e-16\n",
      " -4.72146171e-17 -6.46279289e-17  3.79820558e-19  2.26139317e-17\n",
      " -8.36773907e-17 -1.11258207e-16]\n",
      "[1. 1. 1. 0. 1. 1. 1. 1. 1. 1. 1. 1. 1. 1. 0. 1. 1. 1. 1. 1. 1. 1. 1. 1.\n",
      " 1. 1. 1. 1. 1. 1. 1. 1. 1. 1.]\n"
     ],
     "output_type": "stream"
    }
   ],
   "source": [
    "mu_normal = np.mean(X_train_normal, axis=0) # 均值\n",
    "print(mu_normal)\n",
    "sigma_normal = np.std(X_train_normal, axis=0) # 标准差\n",
    "print(sigma_normal)\n",
    "Z_train_normal = (X_train_normal - mu_normal)/(sigma_normal + np.spacing(1)) # 归一化\n",
    "print(Z_train_normal)\n",
    "print(np.mean(Z_train_normal, axis=0))\n",
    "print(np.std(Z_train_normal, axis=0))"
   ],
   "metadata": {
    "collapsed": false,
    "pycharm": {
     "name": "#%%\n",
     "is_executing": false
    }
   }
  },
  {
   "cell_type": "code",
   "execution_count": 6,
   "outputs": [
    {
     "name": "stdout",
     "text": [
      "[[ 1.00000103  0.00297475 -0.00391942 ...  0.02455499 -0.03822372\n",
      "  -0.03191981]\n",
      " [ 0.00297475  1.00000103  0.194611   ...  0.0038366  -0.0029414\n",
      "  -0.00320122]\n",
      " [-0.00391942  0.194611    1.00000103 ...  0.05401232 -0.02101797\n",
      "  -0.01998123]\n",
      " ...\n",
      " [ 0.02455499  0.0038366   0.05401232 ...  1.00000103 -0.0082675\n",
      "  -0.00754061]\n",
      " [-0.03822372 -0.0029414  -0.02101797 ... -0.0082675   1.00000103\n",
      "   0.9589461 ]\n",
      " [-0.03191981 -0.00320122 -0.01998123 ... -0.00754061  0.9589461\n",
      "   1.00000103]]\n",
      "协方差矩阵的特征值：\n",
      "[4.58414687e+00 3.79933551e+00 2.50090202e+00 2.04515309e+00\n",
      " 1.83795966e+00 1.56130468e+00 1.80862637e-03 7.80750641e-03\n",
      " 3.69475407e-02 2.19264574e-01 1.70901525e-01 7.95078376e-02\n",
      " 9.39399050e-02 1.10173742e-01 1.02609637e-01 3.76066528e-01\n",
      " 4.65972115e-01 4.91412806e-01 6.08418057e-01 6.54978221e-01\n",
      " 1.28863875e+00 1.20026851e+00 1.16534540e+00 7.95119993e-01\n",
      " 8.50767311e-01 1.06438680e+00 9.36839552e-01 9.49295566e-01\n",
      " 9.68315448e-01 1.02048233e+00 1.01151585e+00 1.00044695e+00\n",
      " 0.00000000e+00 0.00000000e+00]\n",
      "协方差矩阵的特征向量：\n",
      "[[-0.07440294 -0.29936977 -0.02247816 ...  0.01385817  0.\n",
      "   0.        ]\n",
      " [-0.00313744 -0.00641568 -0.01163884 ...  0.0017699   0.\n",
      "   0.        ]\n",
      " [-0.00816069  0.00897913 -0.07917148 ...  0.00106399  0.\n",
      "   0.        ]\n",
      " ...\n",
      " [-0.00569842 -0.02271542 -0.13777064 ... -0.03339041  0.\n",
      "   0.        ]\n",
      " [ 0.44131524 -0.08627632  0.00210504 ... -0.00796244  0.\n",
      "   0.        ]\n",
      " [ 0.43951574 -0.08205439  0.00116922 ... -0.00781996  0.\n",
      "   0.        ]]\n"
     ],
     "output_type": "stream"
    }
   ],
   "source": [
    "#基于numpy实现PCA\n",
    "import numpy as np\n",
    "\n",
    "covMat_Z_train_normal = np.cov(Z_train_normal,rowvar=False) #计算协方差矩阵，rowvar=0表示数据的每一列代表一个feature\n",
    "print(covMat_Z_train_normal)\n",
    "(featValue_Z_train_normal, featVec_Z_train_normal) = np.linalg.eig(covMat_Z_train_normal) #计算协方差矩阵的特征值和特征向量\n",
    "print(\"协方差矩阵的特征值：\")\n",
    "print(featValue_Z_train_normal)\n",
    "print(\"协方差矩阵的特征向量：\")\n",
    "print(featVec_Z_train_normal)"
   ],
   "metadata": {
    "collapsed": false,
    "pycharm": {
     "name": "#%%\n",
     "is_executing": false
    }
   }
  },
  {
   "cell_type": "code",
   "execution_count": 7,
   "outputs": [
    {
     "name": "stdout",
     "text": [
      "[33 32  6  7  8 11 12 14 13 10  9 15 16 17 18 19 23 24 26 27 28 31 30 29\n",
      " 25 22 21 20  5  4  3  2  1  0]\n"
     ],
     "output_type": "stream"
    }
   ],
   "source": [
    "index_Z_train_normal=np.argsort(featValue_Z_train_normal) #将特征值按从小到大排序，index保留的是对应原featValue中的下标\n",
    "print(index_Z_train_normal)"
   ],
   "metadata": {
    "collapsed": false,
    "pycharm": {
     "name": "#%%\n",
     "is_executing": false
    }
   }
  },
  {
   "cell_type": "code",
   "execution_count": 8,
   "outputs": [
    {
     "name": "stdout",
     "text": [
      "特征值：\n",
      "[4.58414687e+00 3.79933551e+00 2.50090202e+00 2.04515309e+00\n",
      " 1.83795966e+00 1.56130468e+00 1.28863875e+00 1.20026851e+00\n",
      " 1.16534540e+00 1.06438680e+00 1.02048233e+00 1.01151585e+00\n",
      " 1.00044695e+00 9.68315448e-01 9.49295566e-01 9.36839552e-01\n",
      " 8.50767311e-01 7.95119993e-01 6.54978221e-01 6.08418057e-01\n",
      " 4.91412806e-01 4.65972115e-01 3.76066528e-01 2.19264574e-01\n",
      " 1.70901525e-01 1.10173742e-01 1.02609637e-01 9.39399050e-02\n",
      " 7.95078376e-02 3.69475407e-02 7.80750641e-03 1.80862637e-03\n",
      " 0.00000000e+00 0.00000000e+00]\n",
      "特征向量：\n",
      "[[-7.44029363e-02 -2.99369768e-01 -2.24781633e-02 ... -4.22547686e-04\n",
      "   0.00000000e+00  0.00000000e+00]\n",
      " [-3.13744435e-03 -6.41568499e-03 -1.16388380e-02 ...  4.00681503e-05\n",
      "   0.00000000e+00  0.00000000e+00]\n",
      " [-8.16068618e-03  8.97913030e-03 -7.91714763e-02 ... -8.86902213e-04\n",
      "   0.00000000e+00  0.00000000e+00]\n",
      " ...\n",
      " [-5.69841671e-03 -2.27154153e-02 -1.37770642e-01 ... -1.33629504e-03\n",
      "   0.00000000e+00  0.00000000e+00]\n",
      " [ 4.41315244e-01 -8.62763235e-02  2.10504130e-03 ...  2.90489318e-03\n",
      "   0.00000000e+00  0.00000000e+00]\n",
      " [ 4.39515743e-01 -8.20543853e-02  1.16922255e-03 ... -1.02535826e-03\n",
      "   0.00000000e+00  0.00000000e+00]]\n"
     ],
     "output_type": "stream"
    }
   ],
   "source": [
    "featValue_Z_train_normal_sorted = featValue_Z_train_normal[index_Z_train_normal[-1::-1]] # 从大到小排序后的特征值\n",
    "print(\"特征值：\")\n",
    "print(featValue_Z_train_normal_sorted)\n",
    "featVec_Z_train_normal_sorted = featVec_Z_train_normal[:, index_Z_train_normal[-1::-1]] # 从大到小排序后的特征向量\n",
    "print(\"特征向量：\")\n",
    "print(featVec_Z_train_normal_sorted)"
   ],
   "metadata": {
    "collapsed": false,
    "pycharm": {
     "name": "#%%\n",
     "is_executing": false
    }
   }
  },
  {
   "cell_type": "code",
   "execution_count": 9,
   "outputs": [
    {
     "name": "stdout",
     "text": [
      "32.000032895367255\n",
      "31.999999999999872\n",
      "0.46148381168461694\n"
     ],
     "output_type": "stream"
    }
   ],
   "source": [
    "# 特征值之和等于方差之和\n",
    "sum_featValue_Z_train_normal = np.sum(featValue_Z_train_normal_sorted) \n",
    "print(sum_featValue_Z_train_normal)\n",
    "print(np.sum(np.std(Z_train_normal, axis=0))) # 方差已归一化\n",
    "\n",
    "print(np.sum(featValue_Z_train_normal_sorted[:5])/sum_featValue_Z_train_normal)"
   ],
   "metadata": {
    "collapsed": false,
    "pycharm": {
     "name": "#%%\n",
     "is_executing": false
    }
   }
  },
  {
   "cell_type": "code",
   "execution_count": 10,
   "outputs": [
    {
     "name": "stdout",
     "text": [
      "特征值：\n",
      "[4.58414687 3.79933551 2.50090202 2.04515309 1.83795966]\n",
      "特征向量：\n",
      "[[-0.07440294 -0.29936977 -0.02247816 -0.03661225  0.07062992]\n",
      " [-0.00313744 -0.00641568 -0.01163884  0.01464685 -0.0114032 ]\n",
      " [-0.00816069  0.00897913 -0.07917148  0.02724884 -0.03075093]\n",
      " [ 0.          0.          0.          0.          0.        ]\n",
      " [-0.00063612 -0.00431095 -0.08144809 -0.01991468 -0.00104162]\n",
      " [-0.01258287 -0.02951164 -0.00634207  0.01453037 -0.03166145]\n",
      " [-0.00117622 -0.00835285 -0.05854378  0.00993093  0.00155401]\n",
      " [-0.00334377 -0.01754873 -0.52958667 -0.18394324 -0.00773215]\n",
      " [-0.00369389 -0.01157927 -0.31380365 -0.05016937  0.00780622]\n",
      " [-0.00452836 -0.0223964  -0.43462498 -0.06337516  0.00610779]\n",
      " [-0.00385462 -0.01941064 -0.53811706 -0.18529269 -0.0084773 ]\n",
      " [-0.00588113 -0.02578886 -0.05546656  0.06510629  0.00674448]\n",
      " [-0.00374428 -0.01055157 -0.00208004  0.00412624  0.00164783]\n",
      " [-0.01113052 -0.00564165 -0.22073018 -0.04661381 -0.03036213]\n",
      " [ 0.          0.          0.          0.          0.        ]\n",
      " [-0.06898248  0.16149799  0.00893915 -0.10228473  0.63438629]\n",
      " [-0.06907282  0.17887022  0.00872396 -0.10277975  0.61807276]\n",
      " [-0.00481671 -0.00399966 -0.13643092  0.57795565  0.12598017]\n",
      " [-0.00234303  0.00116625 -0.13601497  0.57080426  0.11417798]\n",
      " [ 0.44198286 -0.08558347  0.00261015 -0.02186999  0.09689933]\n",
      " [ 0.44012944 -0.08476419  0.00234818 -0.02240819  0.09585849]\n",
      " [ 0.07529485  0.26970679 -0.03592781  0.02099972 -0.19325338]\n",
      " [-0.07046046 -0.25132101  0.03548297 -0.02409108  0.17791426]\n",
      " [ 0.05625344  0.00511913 -0.00670285  0.0584968  -0.18393736]\n",
      " [-0.21944577 -0.02597772  0.01494905 -0.05481925  0.15567018]\n",
      " [ 0.06500904  0.41786475 -0.0077455  -0.01656571  0.01215067]\n",
      " [ 0.12757398  0.42644625 -0.01201105 -0.00805127 -0.0126317 ]\n",
      " [-0.1129657  -0.42293337  0.03088754 -0.03547177  0.07218413]\n",
      " [ 0.01614489 -0.37973453  0.03184627 -0.03116996  0.06398526]\n",
      " [ 0.33437919 -0.05397077 -0.01148171  0.01876628  0.00317479]\n",
      " [-0.01098284 -0.02857106 -0.11132179  0.33485329  0.04508985]\n",
      " [-0.00569842 -0.02271542 -0.13777064  0.3330158   0.04556856]\n",
      " [ 0.44131524 -0.08627632  0.00210504 -0.01848597  0.09681075]\n",
      " [ 0.43951574 -0.08205439  0.00116922 -0.01647666  0.09804922]]\n"
     ],
     "output_type": "stream"
    }
   ],
   "source": [
    "# 主要成分\n",
    "n_featValue_Z_train_normal_sorted = featValue_Z_train_normal_sorted[:5] # 取前5个成分\n",
    "print(\"特征值：\")\n",
    "print(n_featValue_Z_train_normal_sorted)\n",
    "n_featVec_Z_train_normal_sorted = featVec_Z_train_normal_sorted[:, :5]\n",
    "print(\"特征向量：\")\n",
    "print(n_featVec_Z_train_normal_sorted)"
   ],
   "metadata": {
    "collapsed": false,
    "pycharm": {
     "name": "#%%\n",
     "is_executing": false
    }
   }
  },
  {
   "cell_type": "code",
   "execution_count": 11,
   "outputs": [
    {
     "name": "stdout",
     "text": [
      "[[-0.70296888 -1.68767672 -0.03397656  0.17119971 -0.94247949]\n",
      " [-0.22688065 -1.6254705   0.13425606 -0.00905641 -0.65500077]\n",
      " [-0.24901034 -0.96652086  0.08462707  0.05329187 -0.82782807]\n",
      " ...\n",
      " [ 0.15241979  0.89422384 -0.06587514  0.12602011  0.15367817]\n",
      " [ 0.14005672  0.9508246  -0.06247324  0.11431549  0.22127571]\n",
      " [ 0.2349532   0.66371627 -0.0781321   0.27652813 -0.83376766]]\n",
      "主要成分得分：\n",
      "[1.35555277 0.94732679 0.63651252 ... 0.23788523 0.27682335 0.54604768]\n"
     ],
     "output_type": "stream"
    }
   ],
   "source": [
    "Z_train_normal_pc = np.dot(Z_train_normal,n_featVec_Z_train_normal_sorted)\n",
    "print(Z_train_normal_pc)\n",
    "\n",
    "Z_train_normal_scores = np.power(Z_train_normal_pc, 2)\n",
    "Z_train_normal_scores = Z_train_normal_scores/n_featValue_Z_train_normal_sorted\n",
    "Z_train_normal_scores = np.sum(Z_train_normal_scores, axis=1)\n",
    "\n",
    "print(\"主要成分得分：\")\n",
    "print(Z_train_normal_scores)"
   ],
   "metadata": {
    "collapsed": false,
    "pycharm": {
     "name": "#%%\n",
     "is_executing": false
    }
   }
  },
  {
   "cell_type": "code",
   "execution_count": 12,
   "outputs": [
    {
     "name": "stdout",
     "text": [
      "[3.83571938e+05 3.58797810e+04 1.87746761e+04 ... 1.05557422e-03\n",
      " 1.04349485e-03 1.04345232e-03]\n",
      "9727\n",
      "主要组成成分阈值： 31.906802676790846\n"
     ],
     "output_type": "stream"
    }
   ],
   "source": [
    "index_Z_train_normal_scores = np.argsort(Z_train_normal_scores)\n",
    "Z_train_normal_scores_sorted = Z_train_normal_scores[index_Z_train_normal_scores[-1::-1]]\n",
    "print(Z_train_normal_scores_sorted)\n",
    "\n",
    "Z_train_normal_scores_choice = np.int(np.size(Z_train_normal_scores_sorted)*0.01)\n",
    "print(Z_train_normal_scores_choice)\n",
    "Z_train_normal_scores_threshold = Z_train_normal_scores_sorted[Z_train_normal_scores_choice]\n",
    "print(\"主要组成成分阈值：\", Z_train_normal_scores_threshold)"
   ],
   "metadata": {
    "collapsed": false,
    "pycharm": {
     "name": "#%%\n",
     "is_executing": false
    }
   }
  },
  {
   "cell_type": "code",
   "execution_count": 13,
   "outputs": [
    {
     "name": "stdout",
     "text": [
      "[ True  True  True ... False False False]\n",
      "3897292\n",
      "检出率： 0.9927762281405627\n"
     ],
     "output_type": "stream"
    }
   ],
   "source": [
    "Z_train_abnormal = (X_train_abnormal - mu_normal)/(sigma_normal + np.spacing(1))\n",
    "Z_train_abnormal_pc = np.dot(Z_train_abnormal,n_featVec_Z_train_normal_sorted)\n",
    "Z_train_abnormal_scores = np.power(Z_train_abnormal_pc, 2)\n",
    "Z_train_abnormal_scores = Z_train_abnormal_scores/n_featValue_Z_train_normal_sorted\n",
    "Z_train_abnormal_scores = np.sum(Z_train_abnormal_scores, axis=1)\n",
    "\n",
    "print(Z_train_abnormal_scores > Z_train_normal_scores_threshold)\n",
    "\n",
    "Z_train_abnormal_res = Z_train_abnormal_scores[Z_train_abnormal_scores > Z_train_normal_scores_threshold]\n",
    "print(np.size(Z_train_abnormal_res))\n",
    "\n",
    "print(\"检出率：\", np.size(Z_train_abnormal_res)/np.size(Z_train_abnormal_scores))"
   ],
   "metadata": {
    "collapsed": false,
    "pycharm": {
     "name": "#%%\n",
     "is_executing": false
    }
   }
  },
  {
   "cell_type": "code",
   "execution_count": 14,
   "outputs": [
    {
     "name": "stdout",
     "text": [
      "特征值：\n",
      "[0.         0.         0.00180863]\n",
      "特征向量：\n",
      "[[ 0.00000000e+00  0.00000000e+00 -4.22547686e-04]\n",
      " [ 0.00000000e+00  0.00000000e+00  4.00681503e-05]\n",
      " [ 0.00000000e+00  0.00000000e+00 -8.86902213e-04]\n",
      " [ 0.00000000e+00  1.00000000e+00  0.00000000e+00]\n",
      " [ 0.00000000e+00  0.00000000e+00  6.71379007e-03]\n",
      " [ 0.00000000e+00  0.00000000e+00 -9.95817912e-04]\n",
      " [ 0.00000000e+00  0.00000000e+00 -2.79257021e-03]\n",
      " [ 0.00000000e+00  0.00000000e+00  7.02474481e-01]\n",
      " [ 0.00000000e+00  0.00000000e+00  1.46475108e-03]\n",
      " [ 0.00000000e+00  0.00000000e+00  2.10534863e-02]\n",
      " [ 0.00000000e+00  0.00000000e+00 -7.11247999e-01]\n",
      " [ 0.00000000e+00  0.00000000e+00 -1.28072155e-03]\n",
      " [ 0.00000000e+00  0.00000000e+00 -3.04724979e-04]\n",
      " [ 0.00000000e+00  0.00000000e+00  5.06763508e-03]\n",
      " [ 1.00000000e+00  0.00000000e+00  0.00000000e+00]\n",
      " [ 0.00000000e+00  0.00000000e+00 -7.32093463e-05]\n",
      " [ 0.00000000e+00  0.00000000e+00  2.33948466e-05]\n",
      " [ 0.00000000e+00  0.00000000e+00 -1.42368770e-04]\n",
      " [ 0.00000000e+00  0.00000000e+00 -2.94408099e-04]\n",
      " [ 0.00000000e+00  0.00000000e+00 -1.08710220e-03]\n",
      " [ 0.00000000e+00  0.00000000e+00 -8.33477172e-04]\n",
      " [ 0.00000000e+00  0.00000000e+00  1.38443353e-03]\n",
      " [ 0.00000000e+00  0.00000000e+00  5.78139814e-04]\n",
      " [ 0.00000000e+00  0.00000000e+00 -1.06309623e-03]\n",
      " [ 0.00000000e+00  0.00000000e+00 -1.54475733e-03]\n",
      " [ 0.00000000e+00  0.00000000e+00  9.53993903e-04]\n",
      " [ 0.00000000e+00  0.00000000e+00 -8.84767064e-03]\n",
      " [ 0.00000000e+00  0.00000000e+00 -5.33017799e-03]\n",
      " [ 0.00000000e+00  0.00000000e+00  9.26366696e-04]\n",
      " [ 0.00000000e+00  0.00000000e+00 -5.71066506e-04]\n",
      " [ 0.00000000e+00  0.00000000e+00 -6.53806208e-04]\n",
      " [ 0.00000000e+00  0.00000000e+00 -1.33629504e-03]\n",
      " [ 0.00000000e+00  0.00000000e+00  2.90489318e-03]\n",
      " [ 0.00000000e+00  0.00000000e+00 -1.02535826e-03]]\n"
     ],
     "output_type": "stream"
    }
   ],
   "source": [
    "# 次要成分\n",
    "n1_featValue_Z_train_normal_sorted = featValue_Z_train_normal_sorted[-1:-4:-1] # 取后3个成分\n",
    "print(\"特征值：\")\n",
    "print(n1_featValue_Z_train_normal_sorted)\n",
    "n1_featVec_Z_train_normal_sorted = featVec_Z_train_normal_sorted[:, -1:-4:-1]\n",
    "print(\"特征向量：\")\n",
    "print(n1_featVec_Z_train_normal_sorted)"
   ],
   "metadata": {
    "collapsed": false,
    "pycharm": {
     "name": "#%%\n",
     "is_executing": false
    }
   }
  },
  {
   "cell_type": "code",
   "execution_count": 15,
   "outputs": [
    {
     "name": "stdout",
     "text": [
      "[[0.         0.         0.02741058]\n",
      " [0.         0.         0.0027695 ]\n",
      " [0.         0.         0.00121335]\n",
      " ...\n",
      " [0.         0.         0.00090897]\n",
      " [0.         0.         0.00089257]\n",
      " [0.         0.         0.00130549]]\n",
      "次要成分得分：\n",
      "[0.41542019 0.00424086 0.000814   ... 0.00045682 0.00044049 0.00094232]\n"
     ],
     "output_type": "stream"
    }
   ],
   "source": [
    "Z_train_normal_pc1 = np.dot(Z_train_normal,n1_featVec_Z_train_normal_sorted)\n",
    "print(Z_train_normal_pc1)\n",
    "\n",
    "Z_train_normal_scores1 = np.power(Z_train_normal_pc1, 2)\n",
    "Z_train_normal_scores1 = Z_train_normal_scores1/(n1_featValue_Z_train_normal_sorted + np.spacing(1))\n",
    "Z_train_normal_scores1 = np.sum(Z_train_normal_scores1, axis=1)\n",
    "\n",
    "print(\"次要成分得分：\")\n",
    "print(Z_train_normal_scores1)"
   ],
   "metadata": {
    "collapsed": false,
    "pycharm": {
     "name": "#%%\n",
     "is_executing": false
    }
   }
  },
  {
   "cell_type": "code",
   "execution_count": 16,
   "outputs": [
    {
     "name": "stdout",
     "text": [
      "[6.79816332e+04 1.99487781e+04 1.52406157e+04 ... 1.60319257e-13\n",
      " 7.75787833e-14 1.33866159e-14]\n",
      "9727\n",
      "次要组成成分阈值： 2.082700158637442\n"
     ],
     "output_type": "stream"
    }
   ],
   "source": [
    "index_Z_train_normal_scores1 = np.argsort(Z_train_normal_scores1)\n",
    "Z_train_normal_scores1_sorted = Z_train_normal_scores1[index_Z_train_normal_scores1[-1::-1]]\n",
    "print(Z_train_normal_scores1_sorted)\n",
    "\n",
    "Z_train_normal_scores1_choice = np.int(np.size(Z_train_normal_scores1_sorted)*0.01)\n",
    "print(Z_train_normal_scores1_choice)\n",
    "Z_train_normal_scores1_threshold = Z_train_normal_scores1_sorted[Z_train_normal_scores1_choice]\n",
    "print(\"次要组成成分阈值：\", Z_train_normal_scores1_threshold)"
   ],
   "metadata": {
    "collapsed": false,
    "pycharm": {
     "name": "#%%\n",
     "is_executing": false
    }
   }
  },
  {
   "cell_type": "code",
   "execution_count": 17,
   "outputs": [
    {
     "name": "stdout",
     "text": [
      "[ True  True  True ...  True  True  True]\n",
      "3900592\n",
      "检出率： 0.9936168532599697\n"
     ],
     "output_type": "stream"
    }
   ],
   "source": [
    "Z_train_abnormal = (X_train_abnormal - mu_normal)/(sigma_normal + np.spacing(1))\n",
    "Z_train_abnormal_pc1 = np.dot(Z_train_abnormal,n1_featVec_Z_train_normal_sorted)\n",
    "Z_train_abnormal_scores1 = np.power(Z_train_abnormal_pc1, 2)\n",
    "Z_train_abnormal_scores1 = Z_train_abnormal_scores1/(n1_featValue_Z_train_normal_sorted + np.spacing(1))\n",
    "Z_train_abnormal_scores1 = np.sum(Z_train_abnormal_scores1, axis=1)\n",
    "\n",
    "print(Z_train_abnormal_scores1 > Z_train_normal_scores1_threshold)\n",
    "\n",
    "Z_train_abnormal_res1 = Z_train_abnormal_scores[np.logical_or((Z_train_abnormal_scores > Z_train_normal_scores_threshold) , (Z_train_abnormal_scores1 > Z_train_normal_scores1_threshold))]\n",
    "print(np.size(Z_train_abnormal_res1))\n",
    "\n",
    "print(\"检出率：\", np.size(Z_train_abnormal_res1)/np.size(Z_train_abnormal_scores1))"
   ],
   "metadata": {
    "collapsed": false,
    "pycharm": {
     "name": "#%%\n",
     "is_executing": false
    }
   }
  },
  {
   "cell_type": "code",
   "execution_count": 18,
   "outputs": [
    {
     "name": "stdout",
     "text": [
      "9727\n",
      "9727\n",
      "误报率： 0.019300335841263346\n"
     ],
     "output_type": "stream"
    }
   ],
   "source": [
    "Z_train_normal = (X_train_normal - mu_normal)/(sigma_normal + np.spacing(1))\n",
    "Z_train_normal_pc = np.dot(Z_train_normal,n_featVec_Z_train_normal_sorted)\n",
    "Z_train_normal_scores = np.power(Z_train_normal_pc, 2)\n",
    "Z_train_normal_scores = Z_train_normal_scores/n_featValue_Z_train_normal_sorted\n",
    "Z_train_normal_scores = np.sum(Z_train_normal_scores, axis=1)\n",
    "Z_train_normal_res = Z_train_normal_scores[Z_train_normal_scores > Z_train_normal_scores_threshold]\n",
    "print(np.size(Z_train_normal_res))\n",
    "\n",
    "Z_train_normal_pc1 = np.dot(Z_train_normal,n1_featVec_Z_train_normal_sorted)\n",
    "Z_train_normal_scores1 = np.power(Z_train_normal_pc1, 2)\n",
    "Z_train_normal_scores1 = Z_train_normal_scores1/(n1_featValue_Z_train_normal_sorted + np.spacing(1))\n",
    "Z_train_normal_scores1 = np.sum(Z_train_normal_scores1, axis=1)\n",
    "Z_train_normal_res = Z_train_normal_scores[Z_train_normal_scores1 > Z_train_normal_scores1_threshold]\n",
    "print(np.size(Z_train_normal_res))\n",
    "\n",
    "Z_train_normal_res1 = Z_train_normal_scores[np.logical_or((Z_train_normal_scores > Z_train_normal_scores_threshold) , (Z_train_normal_scores1 > Z_train_normal_scores1_threshold))]\n",
    "print(\"误报率：\", np.size(Z_train_normal_res1)/np.size(Z_train_normal_scores1))"
   ],
   "metadata": {
    "collapsed": false,
    "pycharm": {
     "name": "#%%\n",
     "is_executing": false
    }
   }
  }
 ],
 "metadata": {
  "kernelspec": {
   "display_name": "PyCharm (Learn)",
   "language": "python",
   "name": "pycharm-d71d24cf"
  },
  "language_info": {
   "codemirror_mode": {
    "name": "ipython",
    "version": 2
   },
   "file_extension": ".py",
   "mimetype": "text/x-python",
   "name": "python",
   "nbconvert_exporter": "python",
   "pygments_lexer": "ipython2",
   "version": "2.7.6"
  },
  "pycharm": {
   "stem_cell": {
    "cell_type": "raw",
    "source": [],
    "metadata": {
     "collapsed": false
    }
   }
  }
 },
 "nbformat": 4,
 "nbformat_minor": 0
}